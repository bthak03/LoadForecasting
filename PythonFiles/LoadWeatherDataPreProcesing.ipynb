{
 "cells": [
  {
   "cell_type": "code",
   "execution_count": 1,
   "metadata": {},
   "outputs": [],
   "source": [
    "%config Completer. use_jedi = False \n",
    "import pandas as pd\n",
    "import numpy as np\n",
    "import glob\n",
    "import matplotlib.pyplot as plt\n",
    "import plotly.express as px\n",
    "import pandas as pd\n",
    "import metpy.calc as mpcalc\n",
    "from metpy.units import units\n",
    "from datetime import datetime"
   ]
  },
  {
   "cell_type": "markdown",
   "metadata": {},
   "source": [
    "##### Load Data Pre Processing"
   ]
  },
  {
   "cell_type": "code",
   "execution_count": 2,
   "metadata": {},
   "outputs": [],
   "source": [
    "files = glob.glob('load/*.csv')"
   ]
  },
  {
   "cell_type": "markdown",
   "metadata": {},
   "source": [
    "###### Checking if column names are same across data"
   ]
  },
  {
   "cell_type": "code",
   "execution_count": 3,
   "metadata": {},
   "outputs": [],
   "source": [
    "cols = []\n",
    "for file in files:\n",
    "    cols.append(list(pd.read_csv(file).columns))"
   ]
  },
  {
   "cell_type": "code",
   "execution_count": 4,
   "metadata": {},
   "outputs": [],
   "source": [
    "cols = set.intersection(*[set(x) for x in cols])\n"
   ]
  },
  {
   "cell_type": "code",
   "execution_count": 5,
   "metadata": {},
   "outputs": [],
   "source": [
    "li = []\n",
    "for file in files:\n",
    "    dfLoad = pd.read_csv(file,index_col= None, header = 0, usecols=['RTD End Time Stamp', 'RTD Actual Load'])\n",
    "    li.append(dfLoad)\n",
    "dfLoad = pd.concat(li, axis = 0, ignore_index=True)"
   ]
  },
  {
   "cell_type": "code",
   "execution_count": 6,
   "metadata": {},
   "outputs": [],
   "source": [
    "dfLoad = dfLoad.rename(columns= {'RTD End Time Stamp':'time_stamp', 'RTD Actual Load':'rtd_actual_load'})"
   ]
  },
  {
   "cell_type": "code",
   "execution_count": 7,
   "metadata": {},
   "outputs": [],
   "source": [
    "dfLoad.time_stamp = pd.to_datetime(dfLoad.time_stamp).dt.strftime('%Y-%m-%d %H:%M')\n"
   ]
  },
  {
   "cell_type": "code",
   "execution_count": 8,
   "metadata": {},
   "outputs": [],
   "source": [
    "def hour_sampling(df):\n",
    "    df.time_stamp = pd.to_datetime(dfLoad.time_stamp)\n",
    "    df = df.set_index('time_stamp').iloc[:-1,:].resample('H').mean()\n",
    "    return df"
   ]
  },
  {
   "cell_type": "code",
   "execution_count": 9,
   "metadata": {
    "scrolled": true
   },
   "outputs": [],
   "source": [
    "dfLoad = hour_sampling(dfLoad)"
   ]
  },
  {
   "cell_type": "code",
   "execution_count": 10,
   "metadata": {},
   "outputs": [],
   "source": [
    "dfLoad.to_csv('CleanLoadData.csv', index = False)"
   ]
  },
  {
   "cell_type": "code",
   "execution_count": 11,
   "metadata": {},
   "outputs": [
    {
     "data": {
      "text/html": [
       "<div>\n",
       "<style scoped>\n",
       "    .dataframe tbody tr th:only-of-type {\n",
       "        vertical-align: middle;\n",
       "    }\n",
       "\n",
       "    .dataframe tbody tr th {\n",
       "        vertical-align: top;\n",
       "    }\n",
       "\n",
       "    .dataframe thead th {\n",
       "        text-align: right;\n",
       "    }\n",
       "</style>\n",
       "<table border=\"1\" class=\"dataframe\">\n",
       "  <thead>\n",
       "    <tr style=\"text-align: right;\">\n",
       "      <th></th>\n",
       "      <th>rtd_actual_load</th>\n",
       "    </tr>\n",
       "    <tr>\n",
       "      <th>time_stamp</th>\n",
       "      <th></th>\n",
       "    </tr>\n",
       "  </thead>\n",
       "  <tbody>\n",
       "    <tr>\n",
       "      <th>2010-01-01 00:00:00</th>\n",
       "      <td>5385.227273</td>\n",
       "    </tr>\n",
       "    <tr>\n",
       "      <th>2010-01-01 01:00:00</th>\n",
       "      <td>5192.575000</td>\n",
       "    </tr>\n",
       "    <tr>\n",
       "      <th>2010-01-01 02:00:00</th>\n",
       "      <td>4978.225000</td>\n",
       "    </tr>\n",
       "    <tr>\n",
       "      <th>2010-01-01 03:00:00</th>\n",
       "      <td>4784.608333</td>\n",
       "    </tr>\n",
       "    <tr>\n",
       "      <th>2010-01-01 04:00:00</th>\n",
       "      <td>4696.741667</td>\n",
       "    </tr>\n",
       "    <tr>\n",
       "      <th>...</th>\n",
       "      <td>...</td>\n",
       "    </tr>\n",
       "    <tr>\n",
       "      <th>2021-05-03 09:00:00</th>\n",
       "      <td>5285.681958</td>\n",
       "    </tr>\n",
       "    <tr>\n",
       "      <th>2021-05-03 10:00:00</th>\n",
       "      <td>5342.884858</td>\n",
       "    </tr>\n",
       "    <tr>\n",
       "      <th>2021-05-03 11:00:00</th>\n",
       "      <td>5418.255667</td>\n",
       "    </tr>\n",
       "    <tr>\n",
       "      <th>2021-05-03 12:00:00</th>\n",
       "      <td>5414.146285</td>\n",
       "    </tr>\n",
       "    <tr>\n",
       "      <th>2021-05-03 13:00:00</th>\n",
       "      <td>5421.878375</td>\n",
       "    </tr>\n",
       "  </tbody>\n",
       "</table>\n",
       "<p>99374 rows × 1 columns</p>\n",
       "</div>"
      ],
      "text/plain": [
       "                     rtd_actual_load\n",
       "time_stamp                          \n",
       "2010-01-01 00:00:00      5385.227273\n",
       "2010-01-01 01:00:00      5192.575000\n",
       "2010-01-01 02:00:00      4978.225000\n",
       "2010-01-01 03:00:00      4784.608333\n",
       "2010-01-01 04:00:00      4696.741667\n",
       "...                              ...\n",
       "2021-05-03 09:00:00      5285.681958\n",
       "2021-05-03 10:00:00      5342.884858\n",
       "2021-05-03 11:00:00      5418.255667\n",
       "2021-05-03 12:00:00      5414.146285\n",
       "2021-05-03 13:00:00      5421.878375\n",
       "\n",
       "[99374 rows x 1 columns]"
      ]
     },
     "execution_count": 11,
     "metadata": {},
     "output_type": "execute_result"
    }
   ],
   "source": [
    "dfLoad"
   ]
  },
  {
   "cell_type": "code",
   "execution_count": 12,
   "metadata": {},
   "outputs": [],
   "source": [
    "files = glob.glob('weather/*.csv')"
   ]
  },
  {
   "cell_type": "code",
   "execution_count": 13,
   "metadata": {},
   "outputs": [
    {
     "data": {
      "text/plain": [
       "['weather\\\\2010.csv',\n",
       " 'weather\\\\2011.csv',\n",
       " 'weather\\\\2012.csv',\n",
       " 'weather\\\\2013.csv',\n",
       " 'weather\\\\2014.csv']"
      ]
     },
     "execution_count": 13,
     "metadata": {},
     "output_type": "execute_result"
    }
   ],
   "source": [
    "files[:5]"
   ]
  },
  {
   "cell_type": "code",
   "execution_count": 14,
   "metadata": {},
   "outputs": [
    {
     "name": "stderr",
     "output_type": "stream",
     "text": [
      "C:\\ProgramData\\Anaconda3\\lib\\site-packages\\IPython\\core\\interactiveshell.py:3146: DtypeWarning: Columns (2,22,23,24,25,26,27,28,29,30,31,32,33,42,43) have mixed types.Specify dtype option on import or set low_memory=False.\n",
      "  has_raised = await self.run_ast_nodes(code_ast.body, cell_name,\n",
      "C:\\ProgramData\\Anaconda3\\lib\\site-packages\\IPython\\core\\interactiveshell.py:3146: DtypeWarning: Columns (45,78) have mixed types.Specify dtype option on import or set low_memory=False.\n",
      "  has_raised = await self.run_ast_nodes(code_ast.body, cell_name,\n",
      "C:\\ProgramData\\Anaconda3\\lib\\site-packages\\IPython\\core\\interactiveshell.py:3146: DtypeWarning: Columns (42,43,86) have mixed types.Specify dtype option on import or set low_memory=False.\n",
      "  has_raised = await self.run_ast_nodes(code_ast.body, cell_name,\n",
      "C:\\ProgramData\\Anaconda3\\lib\\site-packages\\IPython\\core\\interactiveshell.py:3146: DtypeWarning: Columns (42,43,44,45,54,90) have mixed types.Specify dtype option on import or set low_memory=False.\n",
      "  has_raised = await self.run_ast_nodes(code_ast.body, cell_name,\n",
      "C:\\ProgramData\\Anaconda3\\lib\\site-packages\\IPython\\core\\interactiveshell.py:3146: DtypeWarning: Columns (42,43,44,45) have mixed types.Specify dtype option on import or set low_memory=False.\n",
      "  has_raised = await self.run_ast_nodes(code_ast.body, cell_name,\n",
      "C:\\ProgramData\\Anaconda3\\lib\\site-packages\\IPython\\core\\interactiveshell.py:3146: DtypeWarning: Columns (42,43,60) have mixed types.Specify dtype option on import or set low_memory=False.\n",
      "  has_raised = await self.run_ast_nodes(code_ast.body, cell_name,\n",
      "C:\\ProgramData\\Anaconda3\\lib\\site-packages\\IPython\\core\\interactiveshell.py:3146: DtypeWarning: Columns (44,45,54,90) have mixed types.Specify dtype option on import or set low_memory=False.\n",
      "  has_raised = await self.run_ast_nodes(code_ast.body, cell_name,\n",
      "C:\\ProgramData\\Anaconda3\\lib\\site-packages\\IPython\\core\\interactiveshell.py:3146: DtypeWarning: Columns (44,52,53) have mixed types.Specify dtype option on import or set low_memory=False.\n",
      "  has_raised = await self.run_ast_nodes(code_ast.body, cell_name,\n"
     ]
    }
   ],
   "source": [
    "cols = []\n",
    "for file in files:\n",
    "    cols.append(list(pd.read_csv(file).columns))"
   ]
  },
  {
   "cell_type": "markdown",
   "metadata": {},
   "source": [
    "##### Identifying common columns between all\n"
   ]
  },
  {
   "cell_type": "code",
   "execution_count": 15,
   "metadata": {},
   "outputs": [],
   "source": [
    "cols = set.intersection(*[set(x) for x in cols])\n"
   ]
  },
  {
   "cell_type": "code",
   "execution_count": 16,
   "metadata": {},
   "outputs": [
    {
     "data": {
      "text/plain": [
       "{'AA1',\n",
       " 'AA2',\n",
       " 'AA3',\n",
       " 'AT1',\n",
       " 'AT2',\n",
       " 'AT3',\n",
       " 'AT4',\n",
       " 'AW1',\n",
       " 'AW2',\n",
       " 'CALL_SIGN',\n",
       " 'CIG',\n",
       " 'DATE',\n",
       " 'DEW',\n",
       " 'ELEVATION',\n",
       " 'EQD',\n",
       " 'GA1',\n",
       " 'GA2',\n",
       " 'GA3',\n",
       " 'GD1',\n",
       " 'GD2',\n",
       " 'GD3',\n",
       " 'GF1',\n",
       " 'KA1',\n",
       " 'KA2',\n",
       " 'LATITUDE',\n",
       " 'LONGITUDE',\n",
       " 'MA1',\n",
       " 'MD1',\n",
       " 'MW1',\n",
       " 'NAME',\n",
       " 'OC1',\n",
       " 'OD1',\n",
       " 'QUALITY_CONTROL',\n",
       " 'REM',\n",
       " 'REPORT_TYPE',\n",
       " 'SLP',\n",
       " 'SOURCE',\n",
       " 'STATION',\n",
       " 'TMP',\n",
       " 'VIS',\n",
       " 'WND'}"
      ]
     },
     "execution_count": 16,
     "metadata": {},
     "output_type": "execute_result"
    }
   ],
   "source": [
    "cols"
   ]
  },
  {
   "cell_type": "code",
   "execution_count": 17,
   "metadata": {},
   "outputs": [
    {
     "name": "stderr",
     "output_type": "stream",
     "text": [
      "C:\\ProgramData\\Anaconda3\\lib\\site-packages\\IPython\\core\\interactiveshell.py:3146: DtypeWarning: Columns (2) have mixed types.Specify dtype option on import or set low_memory=False.\n",
      "  has_raised = await self.run_ast_nodes(code_ast.body, cell_name,\n"
     ]
    }
   ],
   "source": [
    "li = []\n",
    "for file in files:\n",
    "    dfWeather = pd.read_csv(file,index_col= None, header = 0, usecols=cols)\n",
    "    li.append(dfWeather)\n",
    "dfWeather = pd.concat(li, axis = 0, ignore_index=True)"
   ]
  },
  {
   "cell_type": "code",
   "execution_count": 18,
   "metadata": {},
   "outputs": [],
   "source": [
    "dfWeather.DATE =  dfWeather.DATE.str.replace('T',' ')"
   ]
  },
  {
   "cell_type": "code",
   "execution_count": 19,
   "metadata": {},
   "outputs": [
    {
     "data": {
      "text/plain": [
       "0         2010-01-01 00:51:00\n",
       "1         2010-01-01 01:51:00\n",
       "2         2010-01-01 02:37:00\n",
       "3         2010-01-01 02:51:00\n",
       "4         2010-01-01 03:51:00\n",
       "                 ...         \n",
       "132890    2021-04-30 21:51:00\n",
       "132891    2021-05-01 04:51:00\n",
       "132892    2021-05-01 04:59:00\n",
       "132893    2021-05-01 05:51:00\n",
       "132894    2021-05-01 06:51:00\n",
       "Name: DATE, Length: 132895, dtype: object"
      ]
     },
     "execution_count": 19,
     "metadata": {},
     "output_type": "execute_result"
    }
   ],
   "source": [
    "dfWeather.DATE"
   ]
  },
  {
   "cell_type": "markdown",
   "metadata": {},
   "source": [
    "### Below code is for cleaning the data set of missing values "
   ]
  },
  {
   "cell_type": "code",
   "execution_count": 20,
   "metadata": {},
   "outputs": [],
   "source": [
    "dfWeather = dfWeather.loc[:,['DATE','WND', 'TMP', 'DEW']]"
   ]
  },
  {
   "cell_type": "code",
   "execution_count": 21,
   "metadata": {},
   "outputs": [],
   "source": [
    "dfWeather = dfWeather.sort_values(by = ['DATE'])"
   ]
  },
  {
   "cell_type": "code",
   "execution_count": 22,
   "metadata": {},
   "outputs": [
    {
     "data": {
      "text/html": [
       "<div>\n",
       "<style scoped>\n",
       "    .dataframe tbody tr th:only-of-type {\n",
       "        vertical-align: middle;\n",
       "    }\n",
       "\n",
       "    .dataframe tbody tr th {\n",
       "        vertical-align: top;\n",
       "    }\n",
       "\n",
       "    .dataframe thead th {\n",
       "        text-align: right;\n",
       "    }\n",
       "</style>\n",
       "<table border=\"1\" class=\"dataframe\">\n",
       "  <thead>\n",
       "    <tr style=\"text-align: right;\">\n",
       "      <th></th>\n",
       "      <th>DATE</th>\n",
       "      <th>WND</th>\n",
       "      <th>TMP</th>\n",
       "      <th>DEW</th>\n",
       "    </tr>\n",
       "  </thead>\n",
       "  <tbody>\n",
       "    <tr>\n",
       "      <th>0</th>\n",
       "      <td>2010-01-01 00:51:00</td>\n",
       "      <td>040,1,N,0015,1</td>\n",
       "      <td>+0010,1</td>\n",
       "      <td>-0010,1</td>\n",
       "    </tr>\n",
       "    <tr>\n",
       "      <th>1</th>\n",
       "      <td>2010-01-01 01:51:00</td>\n",
       "      <td>999,9,C,0000,1</td>\n",
       "      <td>+0010,1</td>\n",
       "      <td>-0010,1</td>\n",
       "    </tr>\n",
       "    <tr>\n",
       "      <th>2</th>\n",
       "      <td>2010-01-01 02:37:00</td>\n",
       "      <td>999,9,C,0000,1</td>\n",
       "      <td>+0010,1</td>\n",
       "      <td>-0010,1</td>\n",
       "    </tr>\n",
       "    <tr>\n",
       "      <th>3</th>\n",
       "      <td>2010-01-01 02:51:00</td>\n",
       "      <td>999,9,C,0000,1</td>\n",
       "      <td>+0010,1</td>\n",
       "      <td>-0010,1</td>\n",
       "    </tr>\n",
       "    <tr>\n",
       "      <th>4</th>\n",
       "      <td>2010-01-01 03:51:00</td>\n",
       "      <td>060,1,N,0026,1</td>\n",
       "      <td>+0010,1</td>\n",
       "      <td>+0000,1</td>\n",
       "    </tr>\n",
       "    <tr>\n",
       "      <th>...</th>\n",
       "      <td>...</td>\n",
       "      <td>...</td>\n",
       "      <td>...</td>\n",
       "      <td>...</td>\n",
       "    </tr>\n",
       "    <tr>\n",
       "      <th>132890</th>\n",
       "      <td>2021-04-30 21:51:00</td>\n",
       "      <td>290,5,N,0057,5</td>\n",
       "      <td>+0183,5</td>\n",
       "      <td>-0033,5</td>\n",
       "    </tr>\n",
       "    <tr>\n",
       "      <th>132891</th>\n",
       "      <td>2021-05-01 04:51:00</td>\n",
       "      <td>310,5,V,0067,5</td>\n",
       "      <td>+0078,6</td>\n",
       "      <td>-0044,5</td>\n",
       "    </tr>\n",
       "    <tr>\n",
       "      <th>132892</th>\n",
       "      <td>2021-05-01 04:59:00</td>\n",
       "      <td>999,9,9,9999,9</td>\n",
       "      <td>+9999,9</td>\n",
       "      <td>+9999,9</td>\n",
       "    </tr>\n",
       "    <tr>\n",
       "      <th>132893</th>\n",
       "      <td>2021-05-01 05:51:00</td>\n",
       "      <td>999,9,V,0031,5</td>\n",
       "      <td>+0072,5</td>\n",
       "      <td>-0039,5</td>\n",
       "    </tr>\n",
       "    <tr>\n",
       "      <th>132894</th>\n",
       "      <td>2021-05-01 06:51:00</td>\n",
       "      <td>310,5,N,0057,5</td>\n",
       "      <td>+0067,5</td>\n",
       "      <td>-0044,5</td>\n",
       "    </tr>\n",
       "  </tbody>\n",
       "</table>\n",
       "<p>132895 rows × 4 columns</p>\n",
       "</div>"
      ],
      "text/plain": [
       "                       DATE             WND      TMP      DEW\n",
       "0       2010-01-01 00:51:00  040,1,N,0015,1  +0010,1  -0010,1\n",
       "1       2010-01-01 01:51:00  999,9,C,0000,1  +0010,1  -0010,1\n",
       "2       2010-01-01 02:37:00  999,9,C,0000,1  +0010,1  -0010,1\n",
       "3       2010-01-01 02:51:00  999,9,C,0000,1  +0010,1  -0010,1\n",
       "4       2010-01-01 03:51:00  060,1,N,0026,1  +0010,1  +0000,1\n",
       "...                     ...             ...      ...      ...\n",
       "132890  2021-04-30 21:51:00  290,5,N,0057,5  +0183,5  -0033,5\n",
       "132891  2021-05-01 04:51:00  310,5,V,0067,5  +0078,6  -0044,5\n",
       "132892  2021-05-01 04:59:00  999,9,9,9999,9  +9999,9  +9999,9\n",
       "132893  2021-05-01 05:51:00  999,9,V,0031,5  +0072,5  -0039,5\n",
       "132894  2021-05-01 06:51:00  310,5,N,0057,5  +0067,5  -0044,5\n",
       "\n",
       "[132895 rows x 4 columns]"
      ]
     },
     "execution_count": 22,
     "metadata": {},
     "output_type": "execute_result"
    }
   ],
   "source": [
    "dfWeather"
   ]
  },
  {
   "cell_type": "code",
   "execution_count": 23,
   "metadata": {},
   "outputs": [
    {
     "data": {
      "text/plain": [
       "0         7\n",
       "88604     7\n",
       "88603     7\n",
       "88602     7\n",
       "88601     7\n",
       "         ..\n",
       "44290     7\n",
       "44289     7\n",
       "44288     7\n",
       "44318     7\n",
       "132894    7\n",
       "Name: TMP, Length: 132895, dtype: int64"
      ]
     },
     "execution_count": 23,
     "metadata": {},
     "output_type": "execute_result"
    }
   ],
   "source": [
    "dfWeather.loc[:,'TMP'].apply(lambda x: len(x)).sort_values()"
   ]
  },
  {
   "cell_type": "code",
   "execution_count": 24,
   "metadata": {},
   "outputs": [
    {
     "data": {
      "text/html": [
       "<div>\n",
       "<style scoped>\n",
       "    .dataframe tbody tr th:only-of-type {\n",
       "        vertical-align: middle;\n",
       "    }\n",
       "\n",
       "    .dataframe tbody tr th {\n",
       "        vertical-align: top;\n",
       "    }\n",
       "\n",
       "    .dataframe thead th {\n",
       "        text-align: right;\n",
       "    }\n",
       "</style>\n",
       "<table border=\"1\" class=\"dataframe\">\n",
       "  <thead>\n",
       "    <tr style=\"text-align: right;\">\n",
       "      <th></th>\n",
       "      <th>DATE</th>\n",
       "      <th>WND</th>\n",
       "      <th>TMP</th>\n",
       "      <th>DEW</th>\n",
       "    </tr>\n",
       "  </thead>\n",
       "  <tbody>\n",
       "    <tr>\n",
       "      <th>46</th>\n",
       "      <td>2010-01-02 04:59:00</td>\n",
       "      <td>999,9,9,9999,9</td>\n",
       "      <td>+9999,9</td>\n",
       "      <td>+9999,9</td>\n",
       "    </tr>\n",
       "    <tr>\n",
       "      <th>73</th>\n",
       "      <td>2010-01-03 04:59:00</td>\n",
       "      <td>999,9,9,9999,9</td>\n",
       "      <td>+9999,9</td>\n",
       "      <td>+9999,9</td>\n",
       "    </tr>\n",
       "    <tr>\n",
       "      <th>102</th>\n",
       "      <td>2010-01-04 04:59:00</td>\n",
       "      <td>999,9,9,9999,9</td>\n",
       "      <td>+9999,9</td>\n",
       "      <td>+9999,9</td>\n",
       "    </tr>\n",
       "    <tr>\n",
       "      <th>177</th>\n",
       "      <td>2010-01-07 04:59:00</td>\n",
       "      <td>999,9,9,9999,9</td>\n",
       "      <td>+9999,9</td>\n",
       "      <td>+9999,9</td>\n",
       "    </tr>\n",
       "    <tr>\n",
       "      <th>254</th>\n",
       "      <td>2010-01-09 04:59:00</td>\n",
       "      <td>999,9,9,9999,9</td>\n",
       "      <td>+9999,9</td>\n",
       "      <td>+9999,9</td>\n",
       "    </tr>\n",
       "    <tr>\n",
       "      <th>...</th>\n",
       "      <td>...</td>\n",
       "      <td>...</td>\n",
       "      <td>...</td>\n",
       "      <td>...</td>\n",
       "    </tr>\n",
       "    <tr>\n",
       "      <th>132791</th>\n",
       "      <td>2021-04-27 04:59:00</td>\n",
       "      <td>999,9,9,9999,9</td>\n",
       "      <td>+9999,9</td>\n",
       "      <td>+9999,9</td>\n",
       "    </tr>\n",
       "    <tr>\n",
       "      <th>132816</th>\n",
       "      <td>2021-04-28 04:59:00</td>\n",
       "      <td>999,9,9,9999,9</td>\n",
       "      <td>+9999,9</td>\n",
       "      <td>+9999,9</td>\n",
       "    </tr>\n",
       "    <tr>\n",
       "      <th>132843</th>\n",
       "      <td>2021-04-29 04:59:00</td>\n",
       "      <td>999,9,9,9999,9</td>\n",
       "      <td>+9999,9</td>\n",
       "      <td>+9999,9</td>\n",
       "    </tr>\n",
       "    <tr>\n",
       "      <th>132870</th>\n",
       "      <td>2021-04-30 04:59:00</td>\n",
       "      <td>999,9,9,9999,9</td>\n",
       "      <td>+9999,9</td>\n",
       "      <td>+9999,9</td>\n",
       "    </tr>\n",
       "    <tr>\n",
       "      <th>132892</th>\n",
       "      <td>2021-05-01 04:59:00</td>\n",
       "      <td>999,9,9,9999,9</td>\n",
       "      <td>+9999,9</td>\n",
       "      <td>+9999,9</td>\n",
       "    </tr>\n",
       "  </tbody>\n",
       "</table>\n",
       "<p>4010 rows × 4 columns</p>\n",
       "</div>"
      ],
      "text/plain": [
       "                       DATE             WND      TMP      DEW\n",
       "46      2010-01-02 04:59:00  999,9,9,9999,9  +9999,9  +9999,9\n",
       "73      2010-01-03 04:59:00  999,9,9,9999,9  +9999,9  +9999,9\n",
       "102     2010-01-04 04:59:00  999,9,9,9999,9  +9999,9  +9999,9\n",
       "177     2010-01-07 04:59:00  999,9,9,9999,9  +9999,9  +9999,9\n",
       "254     2010-01-09 04:59:00  999,9,9,9999,9  +9999,9  +9999,9\n",
       "...                     ...             ...      ...      ...\n",
       "132791  2021-04-27 04:59:00  999,9,9,9999,9  +9999,9  +9999,9\n",
       "132816  2021-04-28 04:59:00  999,9,9,9999,9  +9999,9  +9999,9\n",
       "132843  2021-04-29 04:59:00  999,9,9,9999,9  +9999,9  +9999,9\n",
       "132870  2021-04-30 04:59:00  999,9,9,9999,9  +9999,9  +9999,9\n",
       "132892  2021-05-01 04:59:00  999,9,9,9999,9  +9999,9  +9999,9\n",
       "\n",
       "[4010 rows x 4 columns]"
      ]
     },
     "execution_count": 24,
     "metadata": {},
     "output_type": "execute_result"
    }
   ],
   "source": [
    "dfWeather[dfWeather.loc[:,'TMP'] == '+9999,9']"
   ]
  },
  {
   "cell_type": "code",
   "execution_count": 25,
   "metadata": {},
   "outputs": [
    {
     "data": {
      "text/plain": [
       "132894    +0067,5\n",
       "Name: TMP, dtype: object"
      ]
     },
     "execution_count": 25,
     "metadata": {},
     "output_type": "execute_result"
    }
   ],
   "source": [
    "dfWeather.tail(1).TMP"
   ]
  },
  {
   "cell_type": "code",
   "execution_count": 26,
   "metadata": {},
   "outputs": [
    {
     "data": {
      "text/plain": [
       "10295    +0000,1\n",
       "11815    +0000,1\n",
       "11813    +0000,1\n",
       "9768     +0000,1\n",
       "9767     +0000,1\n",
       "          ...   \n",
       "68181    -0167,5\n",
       "68177    -0172,5\n",
       "68178    -0178,5\n",
       "68180    -0178,5\n",
       "68179    -0183,5\n",
       "Name: TMP, Length: 132895, dtype: object"
      ]
     },
     "execution_count": 26,
     "metadata": {},
     "output_type": "execute_result"
    }
   ],
   "source": [
    "dfWeather.loc[:,'TMP'].sort_values()"
   ]
  },
  {
   "cell_type": "code",
   "execution_count": 27,
   "metadata": {},
   "outputs": [],
   "source": [
    "def tmpF(tmp):\n",
    "    if tmp.startswith('-'):\n",
    "        tmp = int(tmp[2:5])\n",
    "        tmp = (-(tmp/10)*((9/5))+32)\n",
    "    else:\n",
    "        tmp = int(tmp[2:5])\n",
    "        tmp = ((tmp/10)*(9/5)) + 32\n",
    "    return int(tmp)"
   ]
  },
  {
   "cell_type": "markdown",
   "metadata": {},
   "source": [
    "##### Applying the tmpF function to both air and dew tempratures, to conver it into fahrenheit and divding with 10 due to scaling factor mentioned in meta data"
   ]
  },
  {
   "cell_type": "code",
   "execution_count": 28,
   "metadata": {},
   "outputs": [],
   "source": [
    "dfWeather.loc[:,'TMP'] = dfWeather.loc[:,'TMP'].replace(to_replace = '+9999,9', method = 'bfill').apply(tmpF)#iloc[842]"
   ]
  },
  {
   "cell_type": "code",
   "execution_count": 29,
   "metadata": {},
   "outputs": [
    {
     "data": {
      "text/plain": [
       "0    33\n",
       "1    33\n",
       "Name: TMP, dtype: int64"
      ]
     },
     "execution_count": 29,
     "metadata": {},
     "output_type": "execute_result"
    }
   ],
   "source": [
    "dfWeather.loc[:1,'TMP']"
   ]
  },
  {
   "cell_type": "code",
   "execution_count": 30,
   "metadata": {},
   "outputs": [],
   "source": [
    "dfWeather.loc[:,'DEW'] =  dfWeather.loc[:,'DEW'].replace(to_replace = '+9999,9', method = 'bfill').apply(tmpF)"
   ]
  },
  {
   "cell_type": "code",
   "execution_count": 31,
   "metadata": {},
   "outputs": [
    {
     "data": {
      "text/plain": [
       "0    30\n",
       "1    30\n",
       "Name: DEW, dtype: int64"
      ]
     },
     "execution_count": 31,
     "metadata": {},
     "output_type": "execute_result"
    }
   ],
   "source": [
    "dfWeather.DEW.head(2)"
   ]
  },
  {
   "cell_type": "code",
   "execution_count": 32,
   "metadata": {},
   "outputs": [
    {
     "data": {
      "text/plain": [
       "0         040,1,N,0015,1\n",
       "1         999,9,C,0000,1\n",
       "2         999,9,C,0000,1\n",
       "3         999,9,C,0000,1\n",
       "4         060,1,N,0026,1\n",
       "               ...      \n",
       "132890    290,5,N,0057,5\n",
       "132891    310,5,V,0067,5\n",
       "132892    999,9,9,9999,9\n",
       "132893    999,9,V,0031,5\n",
       "132894    310,5,N,0057,5\n",
       "Name: WND, Length: 132895, dtype: object"
      ]
     },
     "execution_count": 32,
     "metadata": {},
     "output_type": "execute_result"
    }
   ],
   "source": [
    "dfWeather.WND"
   ]
  },
  {
   "cell_type": "markdown",
   "metadata": {},
   "source": [
    "##### Changing wind from m/s to mph & filliing missing values with back fill method \n"
   ]
  },
  {
   "cell_type": "code",
   "execution_count": 33,
   "metadata": {},
   "outputs": [],
   "source": [
    "dfWeather.loc[:,'WND'] =  dfWeather.loc[:,'WND'].apply(lambda wind:'0' if wind[8:12] == '9999' else wind).replace(to_replace = '0', method = 'bfill') "
   ]
  },
  {
   "cell_type": "code",
   "execution_count": 34,
   "metadata": {},
   "outputs": [],
   "source": [
    "dfWeather.loc[:,'WND'] = dfWeather.loc[:,'WND'].apply(lambda wind: int(wind[8:12])*2.237/10)#.describe()"
   ]
  },
  {
   "cell_type": "code",
   "execution_count": 35,
   "metadata": {},
   "outputs": [
    {
     "data": {
      "text/html": [
       "<div>\n",
       "<style scoped>\n",
       "    .dataframe tbody tr th:only-of-type {\n",
       "        vertical-align: middle;\n",
       "    }\n",
       "\n",
       "    .dataframe tbody tr th {\n",
       "        vertical-align: top;\n",
       "    }\n",
       "\n",
       "    .dataframe thead th {\n",
       "        text-align: right;\n",
       "    }\n",
       "</style>\n",
       "<table border=\"1\" class=\"dataframe\">\n",
       "  <thead>\n",
       "    <tr style=\"text-align: right;\">\n",
       "      <th></th>\n",
       "      <th>WND</th>\n",
       "      <th>TMP</th>\n",
       "      <th>DEW</th>\n",
       "    </tr>\n",
       "  </thead>\n",
       "  <tbody>\n",
       "    <tr>\n",
       "      <th>count</th>\n",
       "      <td>132895.000000</td>\n",
       "      <td>132895.000000</td>\n",
       "      <td>132895.000000</td>\n",
       "    </tr>\n",
       "    <tr>\n",
       "      <th>mean</th>\n",
       "      <td>5.549410</td>\n",
       "      <td>54.517250</td>\n",
       "      <td>42.437955</td>\n",
       "    </tr>\n",
       "    <tr>\n",
       "      <th>std</th>\n",
       "      <td>3.806912</td>\n",
       "      <td>17.158326</td>\n",
       "      <td>19.125981</td>\n",
       "    </tr>\n",
       "    <tr>\n",
       "      <th>min</th>\n",
       "      <td>0.000000</td>\n",
       "      <td>0.000000</td>\n",
       "      <td>-18.000000</td>\n",
       "    </tr>\n",
       "    <tr>\n",
       "      <th>25%</th>\n",
       "      <td>3.355500</td>\n",
       "      <td>41.000000</td>\n",
       "      <td>28.000000</td>\n",
       "    </tr>\n",
       "    <tr>\n",
       "      <th>50%</th>\n",
       "      <td>5.816200</td>\n",
       "      <td>55.000000</td>\n",
       "      <td>44.000000</td>\n",
       "    </tr>\n",
       "    <tr>\n",
       "      <th>75%</th>\n",
       "      <td>8.053200</td>\n",
       "      <td>69.000000</td>\n",
       "      <td>59.000000</td>\n",
       "    </tr>\n",
       "    <tr>\n",
       "      <th>max</th>\n",
       "      <td>32.212800</td>\n",
       "      <td>102.000000</td>\n",
       "      <td>80.000000</td>\n",
       "    </tr>\n",
       "  </tbody>\n",
       "</table>\n",
       "</div>"
      ],
      "text/plain": [
       "                 WND            TMP            DEW\n",
       "count  132895.000000  132895.000000  132895.000000\n",
       "mean        5.549410      54.517250      42.437955\n",
       "std         3.806912      17.158326      19.125981\n",
       "min         0.000000       0.000000     -18.000000\n",
       "25%         3.355500      41.000000      28.000000\n",
       "50%         5.816200      55.000000      44.000000\n",
       "75%         8.053200      69.000000      59.000000\n",
       "max        32.212800     102.000000      80.000000"
      ]
     },
     "execution_count": 35,
     "metadata": {},
     "output_type": "execute_result"
    }
   ],
   "source": [
    "dfWeather.describe()"
   ]
  },
  {
   "cell_type": "code",
   "execution_count": 36,
   "metadata": {},
   "outputs": [],
   "source": [
    "#dfWeather.to_csv('weatherdata.csv', index= False)"
   ]
  },
  {
   "cell_type": "markdown",
   "metadata": {},
   "source": [
    "##### Standardizing dates of Weather "
   ]
  },
  {
   "cell_type": "code",
   "execution_count": 37,
   "metadata": {},
   "outputs": [
    {
     "data": {
      "text/plain": [
       "'00:51:00'"
      ]
     },
     "execution_count": 37,
     "metadata": {},
     "output_type": "execute_result"
    }
   ],
   "source": [
    "'2010-01-01 00:51:00'[11:]"
   ]
  },
  {
   "cell_type": "code",
   "execution_count": 38,
   "metadata": {},
   "outputs": [
    {
     "data": {
      "text/plain": [
       "0         00:51:00\n",
       "1         01:51:00\n",
       "2         02:37:00\n",
       "3         02:51:00\n",
       "4         03:51:00\n",
       "            ...   \n",
       "132890    21:51:00\n",
       "132891    04:51:00\n",
       "132892    04:59:00\n",
       "132893    05:51:00\n",
       "132894    06:51:00\n",
       "Name: DATE, Length: 132895, dtype: object"
      ]
     },
     "execution_count": 38,
     "metadata": {},
     "output_type": "execute_result"
    }
   ],
   "source": [
    "dfWeather.DATE.apply(lambda x: x[11:])"
   ]
  },
  {
   "cell_type": "code",
   "execution_count": 39,
   "metadata": {},
   "outputs": [],
   "source": [
    "dfWeather['TIME'] = dfWeather.DATE.apply(lambda x: x[11:])"
   ]
  },
  {
   "cell_type": "code",
   "execution_count": 40,
   "metadata": {},
   "outputs": [
    {
     "data": {
      "text/plain": [
       "0         00:51:00\n",
       "1         01:51:00\n",
       "2         02:37:00\n",
       "3         02:51:00\n",
       "4         03:51:00\n",
       "            ...   \n",
       "132890    21:51:00\n",
       "132891    04:51:00\n",
       "132892    04:59:00\n",
       "132893    05:51:00\n",
       "132894    06:51:00\n",
       "Name: TIME, Length: 132895, dtype: object"
      ]
     },
     "execution_count": 40,
     "metadata": {},
     "output_type": "execute_result"
    }
   ],
   "source": [
    "dfWeather.TIME"
   ]
  },
  {
   "cell_type": "code",
   "execution_count": 41,
   "metadata": {},
   "outputs": [],
   "source": [
    "def timeFunc(time):\n",
    "    if time[:5] >= '23:30':\n",
    "        time = '0'+str((int(time[:2]) - 23)) + ':00:00'\n",
    "    elif time[3:] < '29:59':\n",
    "        time = time[:3] + '00:00'\n",
    "    else:\n",
    "        if time[0] == '0':\n",
    "            time = '0'+str(int(time[:2]) + 1) + ':00:00'\n",
    "            if len(time) > 8:\n",
    "                time = time[1:]\n",
    "            else:\n",
    "                pass\n",
    "        else:\n",
    "            time = str(int(time[:2]) + 1) + ':00:00'\n",
    "    return time"
   ]
  },
  {
   "cell_type": "code",
   "execution_count": 42,
   "metadata": {},
   "outputs": [],
   "source": [
    "dfWeather.TIME = dfWeather.TIME.apply(timeFunc)"
   ]
  },
  {
   "cell_type": "code",
   "execution_count": 43,
   "metadata": {},
   "outputs": [],
   "source": [
    "dfWeather.DATE =  dfWeather.DATE.str[:11] + dfWeather.TIME"
   ]
  },
  {
   "cell_type": "code",
   "execution_count": 44,
   "metadata": {},
   "outputs": [
    {
     "data": {
      "text/plain": [
       "0         2010-01-01 01:00:00\n",
       "1         2010-01-01 02:00:00\n",
       "2         2010-01-01 03:00:00\n",
       "3         2010-01-01 03:00:00\n",
       "4         2010-01-01 04:00:00\n",
       "                 ...         \n",
       "132890    2021-04-30 22:00:00\n",
       "132891    2021-05-01 05:00:00\n",
       "132892    2021-05-01 05:00:00\n",
       "132893    2021-05-01 06:00:00\n",
       "132894    2021-05-01 07:00:00\n",
       "Name: DATE, Length: 132895, dtype: object"
      ]
     },
     "execution_count": 44,
     "metadata": {},
     "output_type": "execute_result"
    }
   ],
   "source": [
    "dfWeather.DATE"
   ]
  },
  {
   "cell_type": "code",
   "execution_count": 45,
   "metadata": {},
   "outputs": [],
   "source": [
    "dfWeather = dfWeather.drop_duplicates('DATE')"
   ]
  },
  {
   "cell_type": "code",
   "execution_count": 53,
   "metadata": {},
   "outputs": [],
   "source": [
    "dfWeather = dfWeather.rename(columns= {'DATE':'DATES'})"
   ]
  },
  {
   "cell_type": "code",
   "execution_count": 54,
   "metadata": {},
   "outputs": [],
   "source": [
    "dfWeather.DATES = pd.to_datetime(dfWeather.DATES)"
   ]
  },
  {
   "cell_type": "code",
   "execution_count": 55,
   "metadata": {},
   "outputs": [
    {
     "data": {
      "text/html": [
       "<div>\n",
       "<style scoped>\n",
       "    .dataframe tbody tr th:only-of-type {\n",
       "        vertical-align: middle;\n",
       "    }\n",
       "\n",
       "    .dataframe tbody tr th {\n",
       "        vertical-align: top;\n",
       "    }\n",
       "\n",
       "    .dataframe thead th {\n",
       "        text-align: right;\n",
       "    }\n",
       "</style>\n",
       "<table border=\"1\" class=\"dataframe\">\n",
       "  <thead>\n",
       "    <tr style=\"text-align: right;\">\n",
       "      <th></th>\n",
       "      <th>DATES</th>\n",
       "      <th>WND</th>\n",
       "      <th>TMP</th>\n",
       "      <th>DEW</th>\n",
       "      <th>TIME</th>\n",
       "    </tr>\n",
       "  </thead>\n",
       "  <tbody>\n",
       "    <tr>\n",
       "      <th>0</th>\n",
       "      <td>2010-01-01 01:00:00</td>\n",
       "      <td>3.3555</td>\n",
       "      <td>33</td>\n",
       "      <td>30</td>\n",
       "      <td>01:00:00</td>\n",
       "    </tr>\n",
       "    <tr>\n",
       "      <th>1</th>\n",
       "      <td>2010-01-01 02:00:00</td>\n",
       "      <td>0.0000</td>\n",
       "      <td>33</td>\n",
       "      <td>30</td>\n",
       "      <td>02:00:00</td>\n",
       "    </tr>\n",
       "    <tr>\n",
       "      <th>2</th>\n",
       "      <td>2010-01-01 03:00:00</td>\n",
       "      <td>0.0000</td>\n",
       "      <td>33</td>\n",
       "      <td>30</td>\n",
       "      <td>03:00:00</td>\n",
       "    </tr>\n",
       "    <tr>\n",
       "      <th>4</th>\n",
       "      <td>2010-01-01 04:00:00</td>\n",
       "      <td>5.8162</td>\n",
       "      <td>33</td>\n",
       "      <td>32</td>\n",
       "      <td>04:00:00</td>\n",
       "    </tr>\n",
       "    <tr>\n",
       "      <th>5</th>\n",
       "      <td>2010-01-01 05:00:00</td>\n",
       "      <td>0.0000</td>\n",
       "      <td>33</td>\n",
       "      <td>30</td>\n",
       "      <td>05:00:00</td>\n",
       "    </tr>\n",
       "    <tr>\n",
       "      <th>...</th>\n",
       "      <td>...</td>\n",
       "      <td>...</td>\n",
       "      <td>...</td>\n",
       "      <td>...</td>\n",
       "      <td>...</td>\n",
       "    </tr>\n",
       "    <tr>\n",
       "      <th>132889</th>\n",
       "      <td>2021-04-30 21:00:00</td>\n",
       "      <td>12.7509</td>\n",
       "      <td>64</td>\n",
       "      <td>30</td>\n",
       "      <td>21:00:00</td>\n",
       "    </tr>\n",
       "    <tr>\n",
       "      <th>132890</th>\n",
       "      <td>2021-04-30 22:00:00</td>\n",
       "      <td>12.7509</td>\n",
       "      <td>64</td>\n",
       "      <td>26</td>\n",
       "      <td>22:00:00</td>\n",
       "    </tr>\n",
       "    <tr>\n",
       "      <th>132891</th>\n",
       "      <td>2021-05-01 05:00:00</td>\n",
       "      <td>14.9879</td>\n",
       "      <td>46</td>\n",
       "      <td>24</td>\n",
       "      <td>05:00:00</td>\n",
       "    </tr>\n",
       "    <tr>\n",
       "      <th>132893</th>\n",
       "      <td>2021-05-01 06:00:00</td>\n",
       "      <td>6.9347</td>\n",
       "      <td>44</td>\n",
       "      <td>24</td>\n",
       "      <td>06:00:00</td>\n",
       "    </tr>\n",
       "    <tr>\n",
       "      <th>132894</th>\n",
       "      <td>2021-05-01 07:00:00</td>\n",
       "      <td>12.7509</td>\n",
       "      <td>44</td>\n",
       "      <td>24</td>\n",
       "      <td>07:00:00</td>\n",
       "    </tr>\n",
       "  </tbody>\n",
       "</table>\n",
       "<p>98582 rows × 5 columns</p>\n",
       "</div>"
      ],
      "text/plain": [
       "                     DATES      WND  TMP  DEW      TIME\n",
       "0      2010-01-01 01:00:00   3.3555   33   30  01:00:00\n",
       "1      2010-01-01 02:00:00   0.0000   33   30  02:00:00\n",
       "2      2010-01-01 03:00:00   0.0000   33   30  03:00:00\n",
       "4      2010-01-01 04:00:00   5.8162   33   32  04:00:00\n",
       "5      2010-01-01 05:00:00   0.0000   33   30  05:00:00\n",
       "...                    ...      ...  ...  ...       ...\n",
       "132889 2021-04-30 21:00:00  12.7509   64   30  21:00:00\n",
       "132890 2021-04-30 22:00:00  12.7509   64   26  22:00:00\n",
       "132891 2021-05-01 05:00:00  14.9879   46   24  05:00:00\n",
       "132893 2021-05-01 06:00:00   6.9347   44   24  06:00:00\n",
       "132894 2021-05-01 07:00:00  12.7509   44   24  07:00:00\n",
       "\n",
       "[98582 rows x 5 columns]"
      ]
     },
     "execution_count": 55,
     "metadata": {},
     "output_type": "execute_result"
    }
   ],
   "source": [
    "dfWeather"
   ]
  },
  {
   "cell_type": "code",
   "execution_count": 56,
   "metadata": {},
   "outputs": [
    {
     "data": {
      "text/html": [
       "<div>\n",
       "<style scoped>\n",
       "    .dataframe tbody tr th:only-of-type {\n",
       "        vertical-align: middle;\n",
       "    }\n",
       "\n",
       "    .dataframe tbody tr th {\n",
       "        vertical-align: top;\n",
       "    }\n",
       "\n",
       "    .dataframe thead th {\n",
       "        text-align: right;\n",
       "    }\n",
       "</style>\n",
       "<table border=\"1\" class=\"dataframe\">\n",
       "  <thead>\n",
       "    <tr style=\"text-align: right;\">\n",
       "      <th></th>\n",
       "      <th>DATES</th>\n",
       "      <th>WND</th>\n",
       "      <th>TMP</th>\n",
       "      <th>DEW</th>\n",
       "      <th>TIME</th>\n",
       "    </tr>\n",
       "    <tr>\n",
       "      <th>DATES</th>\n",
       "      <th></th>\n",
       "      <th></th>\n",
       "      <th></th>\n",
       "      <th></th>\n",
       "      <th></th>\n",
       "    </tr>\n",
       "  </thead>\n",
       "  <tbody>\n",
       "    <tr>\n",
       "      <th>2010-01-01 01:00:00</th>\n",
       "      <td>2010-01-01 01:00:00</td>\n",
       "      <td>3.3555</td>\n",
       "      <td>33</td>\n",
       "      <td>30</td>\n",
       "      <td>01:00:00</td>\n",
       "    </tr>\n",
       "    <tr>\n",
       "      <th>2010-01-01 02:00:00</th>\n",
       "      <td>2010-01-01 02:00:00</td>\n",
       "      <td>0.0000</td>\n",
       "      <td>33</td>\n",
       "      <td>30</td>\n",
       "      <td>02:00:00</td>\n",
       "    </tr>\n",
       "    <tr>\n",
       "      <th>2010-01-01 03:00:00</th>\n",
       "      <td>2010-01-01 03:00:00</td>\n",
       "      <td>0.0000</td>\n",
       "      <td>33</td>\n",
       "      <td>30</td>\n",
       "      <td>03:00:00</td>\n",
       "    </tr>\n",
       "    <tr>\n",
       "      <th>2010-01-01 04:00:00</th>\n",
       "      <td>2010-01-01 04:00:00</td>\n",
       "      <td>5.8162</td>\n",
       "      <td>33</td>\n",
       "      <td>32</td>\n",
       "      <td>04:00:00</td>\n",
       "    </tr>\n",
       "    <tr>\n",
       "      <th>2010-01-01 05:00:00</th>\n",
       "      <td>2010-01-01 05:00:00</td>\n",
       "      <td>0.0000</td>\n",
       "      <td>33</td>\n",
       "      <td>30</td>\n",
       "      <td>05:00:00</td>\n",
       "    </tr>\n",
       "    <tr>\n",
       "      <th>...</th>\n",
       "      <td>...</td>\n",
       "      <td>...</td>\n",
       "      <td>...</td>\n",
       "      <td>...</td>\n",
       "      <td>...</td>\n",
       "    </tr>\n",
       "    <tr>\n",
       "      <th>2021-04-30 21:00:00</th>\n",
       "      <td>2021-04-30 21:00:00</td>\n",
       "      <td>12.7509</td>\n",
       "      <td>64</td>\n",
       "      <td>30</td>\n",
       "      <td>21:00:00</td>\n",
       "    </tr>\n",
       "    <tr>\n",
       "      <th>2021-04-30 22:00:00</th>\n",
       "      <td>2021-04-30 22:00:00</td>\n",
       "      <td>12.7509</td>\n",
       "      <td>64</td>\n",
       "      <td>26</td>\n",
       "      <td>22:00:00</td>\n",
       "    </tr>\n",
       "    <tr>\n",
       "      <th>2021-05-01 05:00:00</th>\n",
       "      <td>2021-05-01 05:00:00</td>\n",
       "      <td>14.9879</td>\n",
       "      <td>46</td>\n",
       "      <td>24</td>\n",
       "      <td>05:00:00</td>\n",
       "    </tr>\n",
       "    <tr>\n",
       "      <th>2021-05-01 06:00:00</th>\n",
       "      <td>2021-05-01 06:00:00</td>\n",
       "      <td>6.9347</td>\n",
       "      <td>44</td>\n",
       "      <td>24</td>\n",
       "      <td>06:00:00</td>\n",
       "    </tr>\n",
       "    <tr>\n",
       "      <th>2021-05-01 07:00:00</th>\n",
       "      <td>2021-05-01 07:00:00</td>\n",
       "      <td>12.7509</td>\n",
       "      <td>44</td>\n",
       "      <td>24</td>\n",
       "      <td>07:00:00</td>\n",
       "    </tr>\n",
       "  </tbody>\n",
       "</table>\n",
       "<p>98582 rows × 5 columns</p>\n",
       "</div>"
      ],
      "text/plain": [
       "                                  DATES      WND  TMP  DEW      TIME\n",
       "DATES                                                               \n",
       "2010-01-01 01:00:00 2010-01-01 01:00:00   3.3555   33   30  01:00:00\n",
       "2010-01-01 02:00:00 2010-01-01 02:00:00   0.0000   33   30  02:00:00\n",
       "2010-01-01 03:00:00 2010-01-01 03:00:00   0.0000   33   30  03:00:00\n",
       "2010-01-01 04:00:00 2010-01-01 04:00:00   5.8162   33   32  04:00:00\n",
       "2010-01-01 05:00:00 2010-01-01 05:00:00   0.0000   33   30  05:00:00\n",
       "...                                 ...      ...  ...  ...       ...\n",
       "2021-04-30 21:00:00 2021-04-30 21:00:00  12.7509   64   30  21:00:00\n",
       "2021-04-30 22:00:00 2021-04-30 22:00:00  12.7509   64   26  22:00:00\n",
       "2021-05-01 05:00:00 2021-05-01 05:00:00  14.9879   46   24  05:00:00\n",
       "2021-05-01 06:00:00 2021-05-01 06:00:00   6.9347   44   24  06:00:00\n",
       "2021-05-01 07:00:00 2021-05-01 07:00:00  12.7509   44   24  07:00:00\n",
       "\n",
       "[98582 rows x 5 columns]"
      ]
     },
     "execution_count": 56,
     "metadata": {},
     "output_type": "execute_result"
    }
   ],
   "source": [
    "dfWeather.set_index('DATES', drop= False)"
   ]
  },
  {
   "cell_type": "code",
   "execution_count": 57,
   "metadata": {},
   "outputs": [],
   "source": [
    "dfWeather = dfWeather.set_index('DATES', drop= False)#.rename(columns= {'DATE':'DATES'})"
   ]
  },
  {
   "cell_type": "code",
   "execution_count": 58,
   "metadata": {},
   "outputs": [
    {
     "data": {
      "text/plain": [
       "DATES\n",
       "2010-01-01 01:00:00   2010-01-01 01:00:00\n",
       "2010-01-01 02:00:00   2010-01-01 02:00:00\n",
       "2010-01-01 03:00:00   2010-01-01 03:00:00\n",
       "2010-01-01 04:00:00   2010-01-01 04:00:00\n",
       "2010-01-01 05:00:00   2010-01-01 05:00:00\n",
       "                              ...        \n",
       "2021-04-30 21:00:00   2021-04-30 21:00:00\n",
       "2021-04-30 22:00:00   2021-04-30 22:00:00\n",
       "2021-05-01 05:00:00   2021-05-01 05:00:00\n",
       "2021-05-01 06:00:00   2021-05-01 06:00:00\n",
       "2021-05-01 07:00:00   2021-05-01 07:00:00\n",
       "Name: DATES, Length: 98582, dtype: datetime64[ns]"
      ]
     },
     "execution_count": 58,
     "metadata": {},
     "output_type": "execute_result"
    }
   ],
   "source": [
    "dfWeather.DATES"
   ]
  },
  {
   "cell_type": "code",
   "execution_count": 59,
   "metadata": {},
   "outputs": [],
   "source": [
    "start = datetime(2010, 1, 1)\n",
    "end = datetime(2021, 5, 1)\n"
   ]
  },
  {
   "cell_type": "code",
   "execution_count": 60,
   "metadata": {},
   "outputs": [],
   "source": [
    "dfDate = pd.DataFrame(pd.date_range(start, end, freq= '60min'), columns=['DATE'])"
   ]
  },
  {
   "cell_type": "code",
   "execution_count": 61,
   "metadata": {},
   "outputs": [
    {
     "data": {
      "text/plain": [
       "0       2010-01-01 00:00:00\n",
       "1       2010-01-01 01:00:00\n",
       "2       2010-01-01 02:00:00\n",
       "3       2010-01-01 03:00:00\n",
       "4       2010-01-01 04:00:00\n",
       "                ...        \n",
       "99308   2021-04-30 20:00:00\n",
       "99309   2021-04-30 21:00:00\n",
       "99310   2021-04-30 22:00:00\n",
       "99311   2021-04-30 23:00:00\n",
       "99312   2021-05-01 00:00:00\n",
       "Name: DATE, Length: 99313, dtype: datetime64[ns]"
      ]
     },
     "execution_count": 61,
     "metadata": {},
     "output_type": "execute_result"
    }
   ],
   "source": [
    "dfDate.DATE"
   ]
  },
  {
   "cell_type": "code",
   "execution_count": 62,
   "metadata": {},
   "outputs": [],
   "source": [
    "dfDate = dfDate.set_index('DATE')"
   ]
  },
  {
   "cell_type": "code",
   "execution_count": 63,
   "metadata": {},
   "outputs": [],
   "source": [
    "dfWeather = dfDate.join(dfWeather)"
   ]
  },
  {
   "cell_type": "code",
   "execution_count": 64,
   "metadata": {},
   "outputs": [],
   "source": [
    "dfWeather = dfWeather.drop('DATES', axis = 1)"
   ]
  },
  {
   "cell_type": "code",
   "execution_count": 65,
   "metadata": {},
   "outputs": [],
   "source": [
    "dfWeather = dfWeather.fillna(method= 'ffill')"
   ]
  },
  {
   "cell_type": "code",
   "execution_count": 66,
   "metadata": {},
   "outputs": [
    {
     "data": {
      "text/plain": [
       "WND     0\n",
       "TMP     0\n",
       "DEW     0\n",
       "TIME    0\n",
       "dtype: int64"
      ]
     },
     "execution_count": 66,
     "metadata": {},
     "output_type": "execute_result"
    }
   ],
   "source": [
    "dfWeather.isna().sum()"
   ]
  },
  {
   "cell_type": "code",
   "execution_count": 67,
   "metadata": {},
   "outputs": [],
   "source": [
    "dfLoadWeather = dfLoad.join(dfWeather)"
   ]
  },
  {
   "cell_type": "code",
   "execution_count": 68,
   "metadata": {},
   "outputs": [],
   "source": [
    "dfLoadWeather = dfLoadWeather.iloc[:99313,:]"
   ]
  },
  {
   "cell_type": "code",
   "execution_count": 69,
   "metadata": {},
   "outputs": [
    {
     "data": {
      "text/plain": [
       "rtd_actual_load    12\n",
       "WND                 0\n",
       "TMP                 0\n",
       "DEW                 0\n",
       "TIME                0\n",
       "dtype: int64"
      ]
     },
     "execution_count": 69,
     "metadata": {},
     "output_type": "execute_result"
    }
   ],
   "source": [
    "dfLoadWeather.isna().sum()"
   ]
  },
  {
   "cell_type": "code",
   "execution_count": 70,
   "metadata": {},
   "outputs": [],
   "source": [
    "dfLoadWeather = dfLoadWeather.fillna(method ='ffill')"
   ]
  },
  {
   "cell_type": "code",
   "execution_count": 71,
   "metadata": {},
   "outputs": [
    {
     "data": {
      "text/html": [
       "<div>\n",
       "<style scoped>\n",
       "    .dataframe tbody tr th:only-of-type {\n",
       "        vertical-align: middle;\n",
       "    }\n",
       "\n",
       "    .dataframe tbody tr th {\n",
       "        vertical-align: top;\n",
       "    }\n",
       "\n",
       "    .dataframe thead th {\n",
       "        text-align: right;\n",
       "    }\n",
       "</style>\n",
       "<table border=\"1\" class=\"dataframe\">\n",
       "  <thead>\n",
       "    <tr style=\"text-align: right;\">\n",
       "      <th></th>\n",
       "      <th>rtd_actual_load</th>\n",
       "      <th>WND</th>\n",
       "      <th>TMP</th>\n",
       "      <th>DEW</th>\n",
       "      <th>TIME</th>\n",
       "    </tr>\n",
       "    <tr>\n",
       "      <th>time_stamp</th>\n",
       "      <th></th>\n",
       "      <th></th>\n",
       "      <th></th>\n",
       "      <th></th>\n",
       "      <th></th>\n",
       "    </tr>\n",
       "  </thead>\n",
       "  <tbody>\n",
       "    <tr>\n",
       "      <th>2010-01-01 00:00:00</th>\n",
       "      <td>5385.227273</td>\n",
       "      <td>3.3555</td>\n",
       "      <td>39.0</td>\n",
       "      <td>30.0</td>\n",
       "      <td>00:00:00</td>\n",
       "    </tr>\n",
       "    <tr>\n",
       "      <th>2010-01-01 01:00:00</th>\n",
       "      <td>5192.575000</td>\n",
       "      <td>3.3555</td>\n",
       "      <td>33.0</td>\n",
       "      <td>30.0</td>\n",
       "      <td>01:00:00</td>\n",
       "    </tr>\n",
       "    <tr>\n",
       "      <th>2010-01-01 02:00:00</th>\n",
       "      <td>4978.225000</td>\n",
       "      <td>0.0000</td>\n",
       "      <td>33.0</td>\n",
       "      <td>30.0</td>\n",
       "      <td>02:00:00</td>\n",
       "    </tr>\n",
       "    <tr>\n",
       "      <th>2010-01-01 03:00:00</th>\n",
       "      <td>4784.608333</td>\n",
       "      <td>0.0000</td>\n",
       "      <td>33.0</td>\n",
       "      <td>30.0</td>\n",
       "      <td>03:00:00</td>\n",
       "    </tr>\n",
       "    <tr>\n",
       "      <th>2010-01-01 04:00:00</th>\n",
       "      <td>4696.741667</td>\n",
       "      <td>5.8162</td>\n",
       "      <td>33.0</td>\n",
       "      <td>32.0</td>\n",
       "      <td>04:00:00</td>\n",
       "    </tr>\n",
       "    <tr>\n",
       "      <th>...</th>\n",
       "      <td>...</td>\n",
       "      <td>...</td>\n",
       "      <td>...</td>\n",
       "      <td>...</td>\n",
       "      <td>...</td>\n",
       "    </tr>\n",
       "    <tr>\n",
       "      <th>2021-04-30 20:00:00</th>\n",
       "      <td>5007.288600</td>\n",
       "      <td>16.1064</td>\n",
       "      <td>66.0</td>\n",
       "      <td>39.0</td>\n",
       "      <td>20:00:00</td>\n",
       "    </tr>\n",
       "    <tr>\n",
       "      <th>2021-04-30 21:00:00</th>\n",
       "      <td>4878.820267</td>\n",
       "      <td>12.7509</td>\n",
       "      <td>64.0</td>\n",
       "      <td>30.0</td>\n",
       "      <td>21:00:00</td>\n",
       "    </tr>\n",
       "    <tr>\n",
       "      <th>2021-04-30 22:00:00</th>\n",
       "      <td>4644.580058</td>\n",
       "      <td>12.7509</td>\n",
       "      <td>64.0</td>\n",
       "      <td>26.0</td>\n",
       "      <td>22:00:00</td>\n",
       "    </tr>\n",
       "    <tr>\n",
       "      <th>2021-04-30 23:00:00</th>\n",
       "      <td>4411.785408</td>\n",
       "      <td>12.7509</td>\n",
       "      <td>64.0</td>\n",
       "      <td>26.0</td>\n",
       "      <td>22:00:00</td>\n",
       "    </tr>\n",
       "    <tr>\n",
       "      <th>2021-05-01 00:00:00</th>\n",
       "      <td>4171.377850</td>\n",
       "      <td>12.7509</td>\n",
       "      <td>64.0</td>\n",
       "      <td>26.0</td>\n",
       "      <td>22:00:00</td>\n",
       "    </tr>\n",
       "  </tbody>\n",
       "</table>\n",
       "<p>99313 rows × 5 columns</p>\n",
       "</div>"
      ],
      "text/plain": [
       "                     rtd_actual_load      WND   TMP   DEW      TIME\n",
       "time_stamp                                                         \n",
       "2010-01-01 00:00:00      5385.227273   3.3555  39.0  30.0  00:00:00\n",
       "2010-01-01 01:00:00      5192.575000   3.3555  33.0  30.0  01:00:00\n",
       "2010-01-01 02:00:00      4978.225000   0.0000  33.0  30.0  02:00:00\n",
       "2010-01-01 03:00:00      4784.608333   0.0000  33.0  30.0  03:00:00\n",
       "2010-01-01 04:00:00      4696.741667   5.8162  33.0  32.0  04:00:00\n",
       "...                              ...      ...   ...   ...       ...\n",
       "2021-04-30 20:00:00      5007.288600  16.1064  66.0  39.0  20:00:00\n",
       "2021-04-30 21:00:00      4878.820267  12.7509  64.0  30.0  21:00:00\n",
       "2021-04-30 22:00:00      4644.580058  12.7509  64.0  26.0  22:00:00\n",
       "2021-04-30 23:00:00      4411.785408  12.7509  64.0  26.0  22:00:00\n",
       "2021-05-01 00:00:00      4171.377850  12.7509  64.0  26.0  22:00:00\n",
       "\n",
       "[99313 rows x 5 columns]"
      ]
     },
     "execution_count": 71,
     "metadata": {},
     "output_type": "execute_result"
    }
   ],
   "source": [
    "dfLoadWeather"
   ]
  },
  {
   "cell_type": "code",
   "execution_count": 72,
   "metadata": {},
   "outputs": [],
   "source": [
    "dfLoadWeather = dfLoadWeather[~((dfLoadWeather.index.month == 2) & (dfLoadWeather.index.day == 29))]\n"
   ]
  },
  {
   "cell_type": "code",
   "execution_count": 73,
   "metadata": {},
   "outputs": [
    {
     "data": {
      "text/html": [
       "<div>\n",
       "<style scoped>\n",
       "    .dataframe tbody tr th:only-of-type {\n",
       "        vertical-align: middle;\n",
       "    }\n",
       "\n",
       "    .dataframe tbody tr th {\n",
       "        vertical-align: top;\n",
       "    }\n",
       "\n",
       "    .dataframe thead th {\n",
       "        text-align: right;\n",
       "    }\n",
       "</style>\n",
       "<table border=\"1\" class=\"dataframe\">\n",
       "  <thead>\n",
       "    <tr style=\"text-align: right;\">\n",
       "      <th></th>\n",
       "      <th>rtd_actual_load</th>\n",
       "      <th>WND</th>\n",
       "      <th>TMP</th>\n",
       "      <th>DEW</th>\n",
       "      <th>TIME</th>\n",
       "    </tr>\n",
       "    <tr>\n",
       "      <th>time_stamp</th>\n",
       "      <th></th>\n",
       "      <th></th>\n",
       "      <th></th>\n",
       "      <th></th>\n",
       "      <th></th>\n",
       "    </tr>\n",
       "  </thead>\n",
       "  <tbody>\n",
       "    <tr>\n",
       "      <th>2019-01-23 16:00:00</th>\n",
       "      <td>6806.8</td>\n",
       "      <td>9.1717</td>\n",
       "      <td>35.0</td>\n",
       "      <td>15.0</td>\n",
       "      <td>16:00:00</td>\n",
       "    </tr>\n",
       "  </tbody>\n",
       "</table>\n",
       "</div>"
      ],
      "text/plain": [
       "                     rtd_actual_load     WND   TMP   DEW      TIME\n",
       "time_stamp                                                        \n",
       "2019-01-23 16:00:00           6806.8  9.1717  35.0  15.0  16:00:00"
      ]
     },
     "execution_count": 73,
     "metadata": {},
     "output_type": "execute_result"
    }
   ],
   "source": [
    "dfLoadWeather.sample()"
   ]
  },
  {
   "cell_type": "code",
   "execution_count": 75,
   "metadata": {},
   "outputs": [],
   "source": [
    "dfHumididty = dfLoadWeather.copy()"
   ]
  },
  {
   "cell_type": "code",
   "execution_count": 76,
   "metadata": {},
   "outputs": [],
   "source": [
    "temperature = [39.0] * units.degF\n",
    "dew  = [30.0] * units.degF\n"
   ]
  },
  {
   "cell_type": "code",
   "execution_count": 77,
   "metadata": {},
   "outputs": [],
   "source": [
    "dfHumididty['RH'] = dfHumididty.apply(lambda x: mpcalc.relative_humidity_from_dewpoint([x.TMP]*units.degF, [x.DEW]*units.degF) , axis = 1)"
   ]
  },
  {
   "cell_type": "code",
   "execution_count": 78,
   "metadata": {},
   "outputs": [],
   "source": [
    "dfHumididty['RH'] = dfHumididty.RH.apply(lambda x: float(x[0]))"
   ]
  },
  {
   "cell_type": "code",
   "execution_count": 79,
   "metadata": {},
   "outputs": [
    {
     "data": {
      "text/html": [
       "<div>\n",
       "<style scoped>\n",
       "    .dataframe tbody tr th:only-of-type {\n",
       "        vertical-align: middle;\n",
       "    }\n",
       "\n",
       "    .dataframe tbody tr th {\n",
       "        vertical-align: top;\n",
       "    }\n",
       "\n",
       "    .dataframe thead th {\n",
       "        text-align: right;\n",
       "    }\n",
       "</style>\n",
       "<table border=\"1\" class=\"dataframe\">\n",
       "  <thead>\n",
       "    <tr style=\"text-align: right;\">\n",
       "      <th></th>\n",
       "      <th>rtd_actual_load</th>\n",
       "      <th>WND</th>\n",
       "      <th>TMP</th>\n",
       "      <th>DEW</th>\n",
       "      <th>RH</th>\n",
       "    </tr>\n",
       "  </thead>\n",
       "  <tbody>\n",
       "    <tr>\n",
       "      <th>count</th>\n",
       "      <td>99241.000000</td>\n",
       "      <td>99241.000000</td>\n",
       "      <td>99241.000000</td>\n",
       "      <td>99241.000000</td>\n",
       "      <td>99241.000000</td>\n",
       "    </tr>\n",
       "    <tr>\n",
       "      <th>mean</th>\n",
       "      <td>6002.830866</td>\n",
       "      <td>5.524586</td>\n",
       "      <td>55.187211</td>\n",
       "      <td>40.897039</td>\n",
       "      <td>0.613879</td>\n",
       "    </tr>\n",
       "    <tr>\n",
       "      <th>std</th>\n",
       "      <td>1287.556456</td>\n",
       "      <td>3.721243</td>\n",
       "      <td>17.697320</td>\n",
       "      <td>19.471385</td>\n",
       "      <td>0.195945</td>\n",
       "    </tr>\n",
       "    <tr>\n",
       "      <th>min</th>\n",
       "      <td>2861.616667</td>\n",
       "      <td>0.000000</td>\n",
       "      <td>0.000000</td>\n",
       "      <td>-18.000000</td>\n",
       "      <td>0.072259</td>\n",
       "    </tr>\n",
       "    <tr>\n",
       "      <th>25%</th>\n",
       "      <td>5049.141667</td>\n",
       "      <td>3.355500</td>\n",
       "      <td>41.000000</td>\n",
       "      <td>26.000000</td>\n",
       "      <td>0.464088</td>\n",
       "    </tr>\n",
       "    <tr>\n",
       "      <th>50%</th>\n",
       "      <td>5915.283333</td>\n",
       "      <td>5.816200</td>\n",
       "      <td>55.000000</td>\n",
       "      <td>42.000000</td>\n",
       "      <td>0.595932</td>\n",
       "    </tr>\n",
       "    <tr>\n",
       "      <th>75%</th>\n",
       "      <td>6639.175000</td>\n",
       "      <td>8.053200</td>\n",
       "      <td>71.000000</td>\n",
       "      <td>57.000000</td>\n",
       "      <td>0.770308</td>\n",
       "    </tr>\n",
       "    <tr>\n",
       "      <th>max</th>\n",
       "      <td>11452.216667</td>\n",
       "      <td>29.975800</td>\n",
       "      <td>102.000000</td>\n",
       "      <td>78.000000</td>\n",
       "      <td>1.596416</td>\n",
       "    </tr>\n",
       "  </tbody>\n",
       "</table>\n",
       "</div>"
      ],
      "text/plain": [
       "       rtd_actual_load           WND           TMP           DEW            RH\n",
       "count     99241.000000  99241.000000  99241.000000  99241.000000  99241.000000\n",
       "mean       6002.830866      5.524586     55.187211     40.897039      0.613879\n",
       "std        1287.556456      3.721243     17.697320     19.471385      0.195945\n",
       "min        2861.616667      0.000000      0.000000    -18.000000      0.072259\n",
       "25%        5049.141667      3.355500     41.000000     26.000000      0.464088\n",
       "50%        5915.283333      5.816200     55.000000     42.000000      0.595932\n",
       "75%        6639.175000      8.053200     71.000000     57.000000      0.770308\n",
       "max       11452.216667     29.975800    102.000000     78.000000      1.596416"
      ]
     },
     "execution_count": 79,
     "metadata": {},
     "output_type": "execute_result"
    }
   ],
   "source": [
    "dfHumididty.describe()"
   ]
  },
  {
   "cell_type": "code",
   "execution_count": 80,
   "metadata": {},
   "outputs": [
    {
     "data": {
      "text/html": [
       "<div>\n",
       "<style scoped>\n",
       "    .dataframe tbody tr th:only-of-type {\n",
       "        vertical-align: middle;\n",
       "    }\n",
       "\n",
       "    .dataframe tbody tr th {\n",
       "        vertical-align: top;\n",
       "    }\n",
       "\n",
       "    .dataframe thead th {\n",
       "        text-align: right;\n",
       "    }\n",
       "</style>\n",
       "<table border=\"1\" class=\"dataframe\">\n",
       "  <thead>\n",
       "    <tr style=\"text-align: right;\">\n",
       "      <th></th>\n",
       "      <th>rtd_actual_load</th>\n",
       "      <th>WND</th>\n",
       "      <th>TMP</th>\n",
       "      <th>DEW</th>\n",
       "      <th>TIME</th>\n",
       "      <th>RH</th>\n",
       "    </tr>\n",
       "    <tr>\n",
       "      <th>time_stamp</th>\n",
       "      <th></th>\n",
       "      <th></th>\n",
       "      <th></th>\n",
       "      <th></th>\n",
       "      <th></th>\n",
       "      <th></th>\n",
       "    </tr>\n",
       "  </thead>\n",
       "  <tbody>\n",
       "    <tr>\n",
       "      <th>2019-03-01 17:00:00</th>\n",
       "      <td>6737.025</td>\n",
       "      <td>9.1717</td>\n",
       "      <td>15.0</td>\n",
       "      <td>26.0</td>\n",
       "      <td>17:00:00</td>\n",
       "      <td>1.596416</td>\n",
       "    </tr>\n",
       "  </tbody>\n",
       "</table>\n",
       "</div>"
      ],
      "text/plain": [
       "                     rtd_actual_load     WND   TMP   DEW      TIME        RH\n",
       "time_stamp                                                                  \n",
       "2019-03-01 17:00:00         6737.025  9.1717  15.0  26.0  17:00:00  1.596416"
      ]
     },
     "execution_count": 80,
     "metadata": {},
     "output_type": "execute_result"
    }
   ],
   "source": [
    "dfHumididty[dfHumididty.TMP < dfHumididty.DEW]"
   ]
  },
  {
   "cell_type": "code",
   "execution_count": 81,
   "metadata": {},
   "outputs": [],
   "source": [
    "dfHumididty.loc['2019-03-01 17:00:00',:] = dfHumididty.loc['2019-03-01 18:00:00',:]"
   ]
  },
  {
   "cell_type": "code",
   "execution_count": 82,
   "metadata": {},
   "outputs": [
    {
     "data": {
      "text/html": [
       "<div>\n",
       "<style scoped>\n",
       "    .dataframe tbody tr th:only-of-type {\n",
       "        vertical-align: middle;\n",
       "    }\n",
       "\n",
       "    .dataframe tbody tr th {\n",
       "        vertical-align: top;\n",
       "    }\n",
       "\n",
       "    .dataframe thead th {\n",
       "        text-align: right;\n",
       "    }\n",
       "</style>\n",
       "<table border=\"1\" class=\"dataframe\">\n",
       "  <thead>\n",
       "    <tr style=\"text-align: right;\">\n",
       "      <th></th>\n",
       "      <th>rtd_actual_load</th>\n",
       "      <th>WND</th>\n",
       "      <th>TMP</th>\n",
       "      <th>DEW</th>\n",
       "      <th>RH</th>\n",
       "    </tr>\n",
       "  </thead>\n",
       "  <tbody>\n",
       "    <tr>\n",
       "      <th>rtd_actual_load</th>\n",
       "      <td>1.000000</td>\n",
       "      <td>-0.098028</td>\n",
       "      <td>0.430933</td>\n",
       "      <td>0.395721</td>\n",
       "      <td>0.047576</td>\n",
       "    </tr>\n",
       "    <tr>\n",
       "      <th>WND</th>\n",
       "      <td>-0.098028</td>\n",
       "      <td>1.000000</td>\n",
       "      <td>-0.329330</td>\n",
       "      <td>-0.350077</td>\n",
       "      <td>-0.144384</td>\n",
       "    </tr>\n",
       "    <tr>\n",
       "      <th>TMP</th>\n",
       "      <td>0.430933</td>\n",
       "      <td>-0.329330</td>\n",
       "      <td>1.000000</td>\n",
       "      <td>0.888650</td>\n",
       "      <td>0.093020</td>\n",
       "    </tr>\n",
       "    <tr>\n",
       "      <th>DEW</th>\n",
       "      <td>0.395721</td>\n",
       "      <td>-0.350077</td>\n",
       "      <td>0.888650</td>\n",
       "      <td>1.000000</td>\n",
       "      <td>0.530335</td>\n",
       "    </tr>\n",
       "    <tr>\n",
       "      <th>RH</th>\n",
       "      <td>0.047576</td>\n",
       "      <td>-0.144384</td>\n",
       "      <td>0.093020</td>\n",
       "      <td>0.530335</td>\n",
       "      <td>1.000000</td>\n",
       "    </tr>\n",
       "  </tbody>\n",
       "</table>\n",
       "</div>"
      ],
      "text/plain": [
       "                 rtd_actual_load       WND       TMP       DEW        RH\n",
       "rtd_actual_load         1.000000 -0.098028  0.430933  0.395721  0.047576\n",
       "WND                    -0.098028  1.000000 -0.329330 -0.350077 -0.144384\n",
       "TMP                     0.430933 -0.329330  1.000000  0.888650  0.093020\n",
       "DEW                     0.395721 -0.350077  0.888650  1.000000  0.530335\n",
       "RH                      0.047576 -0.144384  0.093020  0.530335  1.000000"
      ]
     },
     "execution_count": 82,
     "metadata": {},
     "output_type": "execute_result"
    }
   ],
   "source": [
    "dfHumididty.corr()"
   ]
  },
  {
   "cell_type": "code",
   "execution_count": 83,
   "metadata": {},
   "outputs": [
    {
     "data": {
      "text/html": [
       "<div>\n",
       "<style scoped>\n",
       "    .dataframe tbody tr th:only-of-type {\n",
       "        vertical-align: middle;\n",
       "    }\n",
       "\n",
       "    .dataframe tbody tr th {\n",
       "        vertical-align: top;\n",
       "    }\n",
       "\n",
       "    .dataframe thead th {\n",
       "        text-align: right;\n",
       "    }\n",
       "</style>\n",
       "<table border=\"1\" class=\"dataframe\">\n",
       "  <thead>\n",
       "    <tr style=\"text-align: right;\">\n",
       "      <th></th>\n",
       "      <th>rtd_actual_load</th>\n",
       "      <th>WND</th>\n",
       "      <th>TMP</th>\n",
       "      <th>DEW</th>\n",
       "      <th>TIME</th>\n",
       "      <th>RH</th>\n",
       "    </tr>\n",
       "    <tr>\n",
       "      <th>time_stamp</th>\n",
       "      <th></th>\n",
       "      <th></th>\n",
       "      <th></th>\n",
       "      <th></th>\n",
       "      <th></th>\n",
       "      <th></th>\n",
       "    </tr>\n",
       "  </thead>\n",
       "  <tbody>\n",
       "    <tr>\n",
       "      <th>2010-01-01 00:00:00</th>\n",
       "      <td>5385.227273</td>\n",
       "      <td>3.3555</td>\n",
       "      <td>39.0</td>\n",
       "      <td>30.0</td>\n",
       "      <td>00:00:00</td>\n",
       "      <td>0.698537</td>\n",
       "    </tr>\n",
       "    <tr>\n",
       "      <th>2010-01-01 01:00:00</th>\n",
       "      <td>5192.575000</td>\n",
       "      <td>3.3555</td>\n",
       "      <td>33.0</td>\n",
       "      <td>30.0</td>\n",
       "      <td>01:00:00</td>\n",
       "      <td>0.885837</td>\n",
       "    </tr>\n",
       "    <tr>\n",
       "      <th>2010-01-01 02:00:00</th>\n",
       "      <td>4978.225000</td>\n",
       "      <td>0.0000</td>\n",
       "      <td>33.0</td>\n",
       "      <td>30.0</td>\n",
       "      <td>02:00:00</td>\n",
       "      <td>0.885837</td>\n",
       "    </tr>\n",
       "    <tr>\n",
       "      <th>2010-01-01 03:00:00</th>\n",
       "      <td>4784.608333</td>\n",
       "      <td>0.0000</td>\n",
       "      <td>33.0</td>\n",
       "      <td>30.0</td>\n",
       "      <td>03:00:00</td>\n",
       "      <td>0.885837</td>\n",
       "    </tr>\n",
       "    <tr>\n",
       "      <th>2010-01-01 04:00:00</th>\n",
       "      <td>4696.741667</td>\n",
       "      <td>5.8162</td>\n",
       "      <td>33.0</td>\n",
       "      <td>32.0</td>\n",
       "      <td>04:00:00</td>\n",
       "      <td>0.960575</td>\n",
       "    </tr>\n",
       "    <tr>\n",
       "      <th>...</th>\n",
       "      <td>...</td>\n",
       "      <td>...</td>\n",
       "      <td>...</td>\n",
       "      <td>...</td>\n",
       "      <td>...</td>\n",
       "      <td>...</td>\n",
       "    </tr>\n",
       "    <tr>\n",
       "      <th>2021-04-30 20:00:00</th>\n",
       "      <td>5007.288600</td>\n",
       "      <td>16.1064</td>\n",
       "      <td>66.0</td>\n",
       "      <td>39.0</td>\n",
       "      <td>20:00:00</td>\n",
       "      <td>0.369996</td>\n",
       "    </tr>\n",
       "    <tr>\n",
       "      <th>2021-04-30 21:00:00</th>\n",
       "      <td>4878.820267</td>\n",
       "      <td>12.7509</td>\n",
       "      <td>64.0</td>\n",
       "      <td>30.0</td>\n",
       "      <td>21:00:00</td>\n",
       "      <td>0.277122</td>\n",
       "    </tr>\n",
       "    <tr>\n",
       "      <th>2021-04-30 22:00:00</th>\n",
       "      <td>4644.580058</td>\n",
       "      <td>12.7509</td>\n",
       "      <td>64.0</td>\n",
       "      <td>26.0</td>\n",
       "      <td>22:00:00</td>\n",
       "      <td>0.235147</td>\n",
       "    </tr>\n",
       "    <tr>\n",
       "      <th>2021-04-30 23:00:00</th>\n",
       "      <td>4411.785408</td>\n",
       "      <td>12.7509</td>\n",
       "      <td>64.0</td>\n",
       "      <td>26.0</td>\n",
       "      <td>22:00:00</td>\n",
       "      <td>0.235147</td>\n",
       "    </tr>\n",
       "    <tr>\n",
       "      <th>2021-05-01 00:00:00</th>\n",
       "      <td>4171.377850</td>\n",
       "      <td>12.7509</td>\n",
       "      <td>64.0</td>\n",
       "      <td>26.0</td>\n",
       "      <td>22:00:00</td>\n",
       "      <td>0.235147</td>\n",
       "    </tr>\n",
       "  </tbody>\n",
       "</table>\n",
       "<p>99241 rows × 6 columns</p>\n",
       "</div>"
      ],
      "text/plain": [
       "                     rtd_actual_load      WND   TMP   DEW      TIME        RH\n",
       "time_stamp                                                                   \n",
       "2010-01-01 00:00:00      5385.227273   3.3555  39.0  30.0  00:00:00  0.698537\n",
       "2010-01-01 01:00:00      5192.575000   3.3555  33.0  30.0  01:00:00  0.885837\n",
       "2010-01-01 02:00:00      4978.225000   0.0000  33.0  30.0  02:00:00  0.885837\n",
       "2010-01-01 03:00:00      4784.608333   0.0000  33.0  30.0  03:00:00  0.885837\n",
       "2010-01-01 04:00:00      4696.741667   5.8162  33.0  32.0  04:00:00  0.960575\n",
       "...                              ...      ...   ...   ...       ...       ...\n",
       "2021-04-30 20:00:00      5007.288600  16.1064  66.0  39.0  20:00:00  0.369996\n",
       "2021-04-30 21:00:00      4878.820267  12.7509  64.0  30.0  21:00:00  0.277122\n",
       "2021-04-30 22:00:00      4644.580058  12.7509  64.0  26.0  22:00:00  0.235147\n",
       "2021-04-30 23:00:00      4411.785408  12.7509  64.0  26.0  22:00:00  0.235147\n",
       "2021-05-01 00:00:00      4171.377850  12.7509  64.0  26.0  22:00:00  0.235147\n",
       "\n",
       "[99241 rows x 6 columns]"
      ]
     },
     "execution_count": 83,
     "metadata": {},
     "output_type": "execute_result"
    }
   ],
   "source": [
    "dfHumididty"
   ]
  },
  {
   "cell_type": "code",
   "execution_count": 85,
   "metadata": {},
   "outputs": [],
   "source": [
    "dfHumididty.to_csv('FinalLoadWeather.csv')"
   ]
  },
  {
   "cell_type": "code",
   "execution_count": 84,
   "metadata": {},
   "outputs": [
    {
     "data": {
      "text/html": [
       "<div>\n",
       "<style scoped>\n",
       "    .dataframe tbody tr th:only-of-type {\n",
       "        vertical-align: middle;\n",
       "    }\n",
       "\n",
       "    .dataframe tbody tr th {\n",
       "        vertical-align: top;\n",
       "    }\n",
       "\n",
       "    .dataframe thead th {\n",
       "        text-align: right;\n",
       "    }\n",
       "</style>\n",
       "<table border=\"1\" class=\"dataframe\">\n",
       "  <thead>\n",
       "    <tr style=\"text-align: right;\">\n",
       "      <th></th>\n",
       "      <th>time_stamp</th>\n",
       "      <th>rtd_actual_load</th>\n",
       "      <th>WND</th>\n",
       "      <th>TMP</th>\n",
       "      <th>DEW</th>\n",
       "      <th>RH</th>\n",
       "      <th>CDD</th>\n",
       "      <th>weekday</th>\n",
       "      <th>month</th>\n",
       "      <th>season</th>\n",
       "      <th>day</th>\n",
       "      <th>hour</th>\n",
       "      <th>year</th>\n",
       "      <th>holidays</th>\n",
       "    </tr>\n",
       "  </thead>\n",
       "  <tbody>\n",
       "    <tr>\n",
       "      <th>0</th>\n",
       "      <td>2010-01-01 00:00:00</td>\n",
       "      <td>5385.227273</td>\n",
       "      <td>3.3555</td>\n",
       "      <td>39.0</td>\n",
       "      <td>30.0</td>\n",
       "      <td>0.698537</td>\n",
       "      <td>0.0</td>\n",
       "      <td>4</td>\n",
       "      <td>1</td>\n",
       "      <td>winter</td>\n",
       "      <td>1</td>\n",
       "      <td>0</td>\n",
       "      <td>2010</td>\n",
       "      <td>True</td>\n",
       "    </tr>\n",
       "    <tr>\n",
       "      <th>1</th>\n",
       "      <td>2010-01-01 01:00:00</td>\n",
       "      <td>5192.575000</td>\n",
       "      <td>3.3555</td>\n",
       "      <td>33.0</td>\n",
       "      <td>30.0</td>\n",
       "      <td>0.885837</td>\n",
       "      <td>0.0</td>\n",
       "      <td>4</td>\n",
       "      <td>1</td>\n",
       "      <td>winter</td>\n",
       "      <td>1</td>\n",
       "      <td>1</td>\n",
       "      <td>2010</td>\n",
       "      <td>False</td>\n",
       "    </tr>\n",
       "    <tr>\n",
       "      <th>2</th>\n",
       "      <td>2010-01-01 02:00:00</td>\n",
       "      <td>4978.225000</td>\n",
       "      <td>0.0000</td>\n",
       "      <td>33.0</td>\n",
       "      <td>30.0</td>\n",
       "      <td>0.885837</td>\n",
       "      <td>0.0</td>\n",
       "      <td>4</td>\n",
       "      <td>1</td>\n",
       "      <td>winter</td>\n",
       "      <td>1</td>\n",
       "      <td>2</td>\n",
       "      <td>2010</td>\n",
       "      <td>False</td>\n",
       "    </tr>\n",
       "    <tr>\n",
       "      <th>3</th>\n",
       "      <td>2010-01-01 03:00:00</td>\n",
       "      <td>4784.608333</td>\n",
       "      <td>0.0000</td>\n",
       "      <td>33.0</td>\n",
       "      <td>30.0</td>\n",
       "      <td>0.885837</td>\n",
       "      <td>0.0</td>\n",
       "      <td>4</td>\n",
       "      <td>1</td>\n",
       "      <td>winter</td>\n",
       "      <td>1</td>\n",
       "      <td>3</td>\n",
       "      <td>2010</td>\n",
       "      <td>False</td>\n",
       "    </tr>\n",
       "    <tr>\n",
       "      <th>4</th>\n",
       "      <td>2010-01-01 04:00:00</td>\n",
       "      <td>4696.741667</td>\n",
       "      <td>5.8162</td>\n",
       "      <td>33.0</td>\n",
       "      <td>32.0</td>\n",
       "      <td>0.960575</td>\n",
       "      <td>0.0</td>\n",
       "      <td>4</td>\n",
       "      <td>1</td>\n",
       "      <td>winter</td>\n",
       "      <td>1</td>\n",
       "      <td>4</td>\n",
       "      <td>2010</td>\n",
       "      <td>False</td>\n",
       "    </tr>\n",
       "    <tr>\n",
       "      <th>...</th>\n",
       "      <td>...</td>\n",
       "      <td>...</td>\n",
       "      <td>...</td>\n",
       "      <td>...</td>\n",
       "      <td>...</td>\n",
       "      <td>...</td>\n",
       "      <td>...</td>\n",
       "      <td>...</td>\n",
       "      <td>...</td>\n",
       "      <td>...</td>\n",
       "      <td>...</td>\n",
       "      <td>...</td>\n",
       "      <td>...</td>\n",
       "      <td>...</td>\n",
       "    </tr>\n",
       "    <tr>\n",
       "      <th>99235</th>\n",
       "      <td>2021-04-30 19:00:00</td>\n",
       "      <td>5089.433517</td>\n",
       "      <td>11.4087</td>\n",
       "      <td>55.0</td>\n",
       "      <td>46.0</td>\n",
       "      <td>0.716002</td>\n",
       "      <td>0.0</td>\n",
       "      <td>4</td>\n",
       "      <td>4</td>\n",
       "      <td>spring</td>\n",
       "      <td>30</td>\n",
       "      <td>19</td>\n",
       "      <td>2021</td>\n",
       "      <td>False</td>\n",
       "    </tr>\n",
       "    <tr>\n",
       "      <th>99236</th>\n",
       "      <td>2021-04-30 20:00:00</td>\n",
       "      <td>5007.288600</td>\n",
       "      <td>16.1064</td>\n",
       "      <td>66.0</td>\n",
       "      <td>39.0</td>\n",
       "      <td>0.369996</td>\n",
       "      <td>1.0</td>\n",
       "      <td>4</td>\n",
       "      <td>4</td>\n",
       "      <td>spring</td>\n",
       "      <td>30</td>\n",
       "      <td>20</td>\n",
       "      <td>2021</td>\n",
       "      <td>False</td>\n",
       "    </tr>\n",
       "    <tr>\n",
       "      <th>99237</th>\n",
       "      <td>2021-04-30 21:00:00</td>\n",
       "      <td>4878.820267</td>\n",
       "      <td>12.7509</td>\n",
       "      <td>64.0</td>\n",
       "      <td>30.0</td>\n",
       "      <td>0.277122</td>\n",
       "      <td>0.0</td>\n",
       "      <td>4</td>\n",
       "      <td>4</td>\n",
       "      <td>spring</td>\n",
       "      <td>30</td>\n",
       "      <td>21</td>\n",
       "      <td>2021</td>\n",
       "      <td>False</td>\n",
       "    </tr>\n",
       "    <tr>\n",
       "      <th>99238</th>\n",
       "      <td>2021-04-30 22:00:00</td>\n",
       "      <td>4644.580058</td>\n",
       "      <td>12.7509</td>\n",
       "      <td>64.0</td>\n",
       "      <td>26.0</td>\n",
       "      <td>0.235147</td>\n",
       "      <td>0.0</td>\n",
       "      <td>4</td>\n",
       "      <td>4</td>\n",
       "      <td>spring</td>\n",
       "      <td>30</td>\n",
       "      <td>22</td>\n",
       "      <td>2021</td>\n",
       "      <td>False</td>\n",
       "    </tr>\n",
       "    <tr>\n",
       "      <th>99239</th>\n",
       "      <td>2021-04-30 23:00:00</td>\n",
       "      <td>4411.785408</td>\n",
       "      <td>12.7509</td>\n",
       "      <td>64.0</td>\n",
       "      <td>26.0</td>\n",
       "      <td>0.235147</td>\n",
       "      <td>0.0</td>\n",
       "      <td>4</td>\n",
       "      <td>4</td>\n",
       "      <td>spring</td>\n",
       "      <td>30</td>\n",
       "      <td>23</td>\n",
       "      <td>2021</td>\n",
       "      <td>False</td>\n",
       "    </tr>\n",
       "  </tbody>\n",
       "</table>\n",
       "<p>99240 rows × 14 columns</p>\n",
       "</div>"
      ],
      "text/plain": [
       "                time_stamp  rtd_actual_load      WND   TMP   DEW        RH  \\\n",
       "0      2010-01-01 00:00:00      5385.227273   3.3555  39.0  30.0  0.698537   \n",
       "1      2010-01-01 01:00:00      5192.575000   3.3555  33.0  30.0  0.885837   \n",
       "2      2010-01-01 02:00:00      4978.225000   0.0000  33.0  30.0  0.885837   \n",
       "3      2010-01-01 03:00:00      4784.608333   0.0000  33.0  30.0  0.885837   \n",
       "4      2010-01-01 04:00:00      4696.741667   5.8162  33.0  32.0  0.960575   \n",
       "...                    ...              ...      ...   ...   ...       ...   \n",
       "99235  2021-04-30 19:00:00      5089.433517  11.4087  55.0  46.0  0.716002   \n",
       "99236  2021-04-30 20:00:00      5007.288600  16.1064  66.0  39.0  0.369996   \n",
       "99237  2021-04-30 21:00:00      4878.820267  12.7509  64.0  30.0  0.277122   \n",
       "99238  2021-04-30 22:00:00      4644.580058  12.7509  64.0  26.0  0.235147   \n",
       "99239  2021-04-30 23:00:00      4411.785408  12.7509  64.0  26.0  0.235147   \n",
       "\n",
       "       CDD  weekday  month  season  day  hour  year  holidays  \n",
       "0      0.0        4      1  winter    1     0  2010      True  \n",
       "1      0.0        4      1  winter    1     1  2010     False  \n",
       "2      0.0        4      1  winter    1     2  2010     False  \n",
       "3      0.0        4      1  winter    1     3  2010     False  \n",
       "4      0.0        4      1  winter    1     4  2010     False  \n",
       "...    ...      ...    ...     ...  ...   ...   ...       ...  \n",
       "99235  0.0        4      4  spring   30    19  2021     False  \n",
       "99236  1.0        4      4  spring   30    20  2021     False  \n",
       "99237  0.0        4      4  spring   30    21  2021     False  \n",
       "99238  0.0        4      4  spring   30    22  2021     False  \n",
       "99239  0.0        4      4  spring   30    23  2021     False  \n",
       "\n",
       "[99240 rows x 14 columns]"
      ]
     },
     "execution_count": 84,
     "metadata": {},
     "output_type": "execute_result"
    }
   ],
   "source": [
    "pd.read_csv('FinalLoadWeather.csv')"
   ]
  },
  {
   "cell_type": "code",
   "execution_count": null,
   "metadata": {},
   "outputs": [],
   "source": []
  }
 ],
 "metadata": {
  "kernelspec": {
   "display_name": "Python 3",
   "language": "python",
   "name": "python3"
  },
  "language_info": {
   "codemirror_mode": {
    "name": "ipython",
    "version": 3
   },
   "file_extension": ".py",
   "mimetype": "text/x-python",
   "name": "python",
   "nbconvert_exporter": "python",
   "pygments_lexer": "ipython3",
   "version": "3.8.5"
  }
 },
 "nbformat": 4,
 "nbformat_minor": 4
}
